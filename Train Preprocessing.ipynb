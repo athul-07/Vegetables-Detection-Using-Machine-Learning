{
 "cells": [
  {
   "cell_type": "code",
   "execution_count": 1,
   "id": "625af1ac-f2f6-491a-9684-94edbfe1f60c",
   "metadata": {},
   "outputs": [
    {
     "name": "stdout",
     "output_type": "stream",
     "text": [
      "{'Cabbage': 0, 'Capsicum': 1, 'Carrot': 2, 'Cauliflower': 3}\n",
      "['Cabbage', 'Capsicum', 'Carrot', 'Cauliflower']\n",
      "[0, 1, 2, 3]\n"
     ]
    }
   ],
   "source": [
    "import cv2,os\n",
    "\n",
    "data_path = 'train'\n",
    "categories =os .listdir(data_path)\n",
    "labels = [i for i in range(len(categories))]\n",
    "\n",
    "label_dict = dict(zip(categories,labels))\n",
    "\n",
    "print(label_dict)\n",
    "print(categories)\n",
    "print(labels)"
   ]
  },
  {
   "cell_type": "code",
   "execution_count": 2,
   "id": "f2240b8b-82be-437a-87d9-b09a8c24f821",
   "metadata": {},
   "outputs": [],
   "source": [
    "img_size = 100\n",
    "data = []\n",
    "target = []\n",
    "\n",
    "\n",
    "for category in categories:\n",
    "    folder_path = os.path.join(data_path,category)\n",
    "    img_names = os.listdir(folder_path)\n",
    "        \n",
    "    for img_name in img_names:\n",
    "        img_path =os.path.join(folder_path,img_name)\n",
    "        img = cv2.imread(img_path)\n",
    "\n",
    "        try:\n",
    "            gray = cv2.cvtColor(img,cv2.COLOR_BGR2GRAY)           \n",
    "            #Coverting the image into gray scale\n",
    "            resized = cv2.resize(gray,(img_size,img_size))\n",
    "            #resizing the gray scale into 100x100, since we need a fixed common size for all the images in the dataset\n",
    "            data.append(resized)\n",
    "            target.append(label_dict[category])\n",
    "            #appending the image and the label(categorized) into the list (dataset)\n",
    "\n",
    "        except Exception as e:\n",
    "            print('Exception:',e)\n",
    "            #if any exception rasied, the exception will be printed here. And pass to the next image"
   ]
  },
  {
   "cell_type": "code",
   "execution_count": 3,
   "id": "13331834-e1db-43d3-b2e2-da3414f76496",
   "metadata": {},
   "outputs": [],
   "source": [
    "import numpy as np\n",
    "\n",
    "data = np.array(data)/255.0\n",
    "data = np.reshape(data,(data.shape[0],img_size,img_size,1))\n",
    "target = np.array(target)\n",
    "\n",
    "from keras.utils import to_categorical\n",
    "\n",
    "new_target = to_categorical(target)"
   ]
  },
  {
   "cell_type": "code",
   "execution_count": 4,
   "id": "fd9b2f0d-cfae-4d58-8569-8d8bf3e51a41",
   "metadata": {},
   "outputs": [],
   "source": [
    "np.save('train_data',data)\n",
    "np.save('train_target',new_target)"
   ]
  },
  {
   "cell_type": "code",
   "execution_count": null,
   "id": "600618fc-aa16-4875-8b7f-941ae2e62954",
   "metadata": {},
   "outputs": [],
   "source": []
  }
 ],
 "metadata": {
  "kernelspec": {
   "display_name": "Python 3 (ipykernel)",
   "language": "python",
   "name": "python3"
  },
  "language_info": {
   "codemirror_mode": {
    "name": "ipython",
    "version": 3
   },
   "file_extension": ".py",
   "mimetype": "text/x-python",
   "name": "python",
   "nbconvert_exporter": "python",
   "pygments_lexer": "ipython3",
   "version": "3.8.0"
  }
 },
 "nbformat": 4,
 "nbformat_minor": 5
}

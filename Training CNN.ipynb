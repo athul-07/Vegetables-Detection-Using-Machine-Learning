{
 "cells": [
  {
   "cell_type": "code",
   "execution_count": 1,
   "id": "0f2034d1-cb03-4d3c-9f74-cbc412698c6e",
   "metadata": {},
   "outputs": [],
   "source": [
    "import numpy as np\n",
    "\n",
    "train_data = np.load('train_data.npy')\n",
    "train_target = np.load('train_target.npy')\n",
    "validation_data = np.load('validation_data.npy')\n",
    "validation_target = np.load('validation_target.npy')\n",
    "test_data = np.load('test_data.npy')\n",
    "test_target = np.load('test_target.npy')\n",
    "\n",
    "#loading the save numpy arrays in the previous code"
   ]
  },
  {
   "cell_type": "code",
   "execution_count": 3,
   "id": "05289a1a-efd7-4d79-970c-d79bcfed2631",
   "metadata": {},
   "outputs": [
    {
     "name": "stdout",
     "output_type": "stream",
     "text": [
      "Epoch 1/20\n",
      "125/125 [==============================] - ETA: 0s - loss: 1.3721 - accuracy: 0.4575INFO:tensorflow:Assets written to: model-001.model\\assets\n"
     ]
    },
    {
     "name": "stderr",
     "output_type": "stream",
     "text": [
      "INFO:tensorflow:Assets written to: model-001.model\\assets\n"
     ]
    },
    {
     "name": "stdout",
     "output_type": "stream",
     "text": [
      "125/125 [==============================] - 52s 408ms/step - loss: 1.3721 - accuracy: 0.4575 - val_loss: 1.0167 - val_accuracy: 0.6600\n",
      "Epoch 2/20\n",
      "125/125 [==============================] - ETA: 0s - loss: 0.8937 - accuracy: 0.6995INFO:tensorflow:Assets written to: model-002.model\\assets\n"
     ]
    },
    {
     "name": "stderr",
     "output_type": "stream",
     "text": [
      "INFO:tensorflow:Assets written to: model-002.model\\assets\n"
     ]
    },
    {
     "name": "stdout",
     "output_type": "stream",
     "text": [
      "125/125 [==============================] - 54s 429ms/step - loss: 0.8937 - accuracy: 0.6995 - val_loss: 0.8722 - val_accuracy: 0.7013\n",
      "Epoch 3/20\n",
      "125/125 [==============================] - ETA: 0s - loss: 0.7430 - accuracy: 0.7640INFO:tensorflow:Assets written to: model-003.model\\assets\n"
     ]
    },
    {
     "name": "stderr",
     "output_type": "stream",
     "text": [
      "INFO:tensorflow:Assets written to: model-003.model\\assets\n"
     ]
    },
    {
     "name": "stdout",
     "output_type": "stream",
     "text": [
      "125/125 [==============================] - 53s 422ms/step - loss: 0.7430 - accuracy: 0.7640 - val_loss: 0.6689 - val_accuracy: 0.8012\n",
      "Epoch 4/20\n",
      "125/125 [==============================] - ETA: 0s - loss: 0.7163 - accuracy: 0.7925INFO:tensorflow:Assets written to: model-004.model\\assets\n"
     ]
    },
    {
     "name": "stderr",
     "output_type": "stream",
     "text": [
      "INFO:tensorflow:Assets written to: model-004.model\\assets\n"
     ]
    },
    {
     "name": "stdout",
     "output_type": "stream",
     "text": [
      "125/125 [==============================] - 51s 411ms/step - loss: 0.7163 - accuracy: 0.7925 - val_loss: 0.6153 - val_accuracy: 0.8363\n",
      "Epoch 5/20\n",
      "125/125 [==============================] - ETA: 0s - loss: 0.5725 - accuracy: 0.8520INFO:tensorflow:Assets written to: model-005.model\\assets\n"
     ]
    },
    {
     "name": "stderr",
     "output_type": "stream",
     "text": [
      "INFO:tensorflow:Assets written to: model-005.model\\assets\n"
     ]
    },
    {
     "name": "stdout",
     "output_type": "stream",
     "text": [
      "125/125 [==============================] - 48s 385ms/step - loss: 0.5725 - accuracy: 0.8520 - val_loss: 0.5766 - val_accuracy: 0.8438\n",
      "Epoch 6/20\n",
      "125/125 [==============================] - ETA: 0s - loss: 0.5592 - accuracy: 0.8658INFO:tensorflow:Assets written to: model-006.model\\assets\n"
     ]
    },
    {
     "name": "stderr",
     "output_type": "stream",
     "text": [
      "INFO:tensorflow:Assets written to: model-006.model\\assets\n"
     ]
    },
    {
     "name": "stdout",
     "output_type": "stream",
     "text": [
      "125/125 [==============================] - 44s 356ms/step - loss: 0.5592 - accuracy: 0.8658 - val_loss: 0.4859 - val_accuracy: 0.8925\n",
      "Epoch 7/20\n",
      "125/125 [==============================] - ETA: 0s - loss: 0.4552 - accuracy: 0.9038INFO:tensorflow:Assets written to: model-007.model\\assets\n"
     ]
    },
    {
     "name": "stderr",
     "output_type": "stream",
     "text": [
      "INFO:tensorflow:Assets written to: model-007.model\\assets\n"
     ]
    },
    {
     "name": "stdout",
     "output_type": "stream",
     "text": [
      "125/125 [==============================] - 45s 361ms/step - loss: 0.4552 - accuracy: 0.9038 - val_loss: 0.3915 - val_accuracy: 0.9262\n",
      "Epoch 8/20\n",
      "125/125 [==============================] - 44s 349ms/step - loss: 0.4197 - accuracy: 0.9118 - val_loss: 0.4475 - val_accuracy: 0.9075\n",
      "Epoch 9/20\n",
      "125/125 [==============================] - ETA: 0s - loss: 0.3887 - accuracy: 0.9260INFO:tensorflow:Assets written to: model-009.model\\assets\n"
     ]
    },
    {
     "name": "stderr",
     "output_type": "stream",
     "text": [
      "INFO:tensorflow:Assets written to: model-009.model\\assets\n"
     ]
    },
    {
     "name": "stdout",
     "output_type": "stream",
     "text": [
      "125/125 [==============================] - 45s 358ms/step - loss: 0.3887 - accuracy: 0.9260 - val_loss: 0.3298 - val_accuracy: 0.9513\n",
      "Epoch 10/20\n",
      "125/125 [==============================] - 44s 354ms/step - loss: 0.3746 - accuracy: 0.9302 - val_loss: 0.3960 - val_accuracy: 0.9013\n",
      "Epoch 11/20\n",
      "125/125 [==============================] - ETA: 0s - loss: 0.4127 - accuracy: 0.9235INFO:tensorflow:Assets written to: model-011.model\\assets\n"
     ]
    },
    {
     "name": "stderr",
     "output_type": "stream",
     "text": [
      "INFO:tensorflow:Assets written to: model-011.model\\assets\n"
     ]
    },
    {
     "name": "stdout",
     "output_type": "stream",
     "text": [
      "125/125 [==============================] - 45s 359ms/step - loss: 0.4127 - accuracy: 0.9235 - val_loss: 0.3242 - val_accuracy: 0.9463\n",
      "Epoch 12/20\n",
      "125/125 [==============================] - 44s 350ms/step - loss: 0.3689 - accuracy: 0.9337 - val_loss: 0.3476 - val_accuracy: 0.9563\n",
      "Epoch 13/20\n",
      "125/125 [==============================] - 44s 352ms/step - loss: 0.3196 - accuracy: 0.9488 - val_loss: 0.4131 - val_accuracy: 0.9262\n",
      "Epoch 14/20\n",
      "125/125 [==============================] - 44s 351ms/step - loss: 0.3432 - accuracy: 0.9465 - val_loss: 0.3361 - val_accuracy: 0.9475\n",
      "Epoch 15/20\n",
      "125/125 [==============================] - 44s 352ms/step - loss: 0.2750 - accuracy: 0.9592 - val_loss: 0.4242 - val_accuracy: 0.9087\n",
      "Epoch 16/20\n",
      "125/125 [==============================] - ETA: 0s - loss: 0.2952 - accuracy: 0.9553INFO:tensorflow:Assets written to: model-016.model\\assets\n"
     ]
    },
    {
     "name": "stderr",
     "output_type": "stream",
     "text": [
      "INFO:tensorflow:Assets written to: model-016.model\\assets\n"
     ]
    },
    {
     "name": "stdout",
     "output_type": "stream",
     "text": [
      "125/125 [==============================] - 46s 370ms/step - loss: 0.2952 - accuracy: 0.9553 - val_loss: 0.3019 - val_accuracy: 0.9575\n",
      "Epoch 17/20\n",
      "125/125 [==============================] - ETA: 0s - loss: 0.3180 - accuracy: 0.9550INFO:tensorflow:Assets written to: model-017.model\\assets\n"
     ]
    },
    {
     "name": "stderr",
     "output_type": "stream",
     "text": [
      "INFO:tensorflow:Assets written to: model-017.model\\assets\n"
     ]
    },
    {
     "name": "stdout",
     "output_type": "stream",
     "text": [
      "125/125 [==============================] - 45s 359ms/step - loss: 0.3180 - accuracy: 0.9550 - val_loss: 0.2586 - val_accuracy: 0.9750\n",
      "Epoch 18/20\n",
      "125/125 [==============================] - 45s 359ms/step - loss: 0.2340 - accuracy: 0.9685 - val_loss: 0.3672 - val_accuracy: 0.9287\n",
      "Epoch 19/20\n",
      "125/125 [==============================] - 54s 430ms/step - loss: 0.3238 - accuracy: 0.9477 - val_loss: 0.4797 - val_accuracy: 0.8825\n",
      "Epoch 20/20\n",
      "125/125 [==============================] - 52s 416ms/step - loss: 0.3287 - accuracy: 0.9540 - val_loss: 0.3730 - val_accuracy: 0.9300\n"
     ]
    }
   ],
   "source": [
    "from keras.models import Sequential\n",
    "from keras.layers import Dense, Activation, Flatten, Dropout\n",
    "from keras.layers import Conv2D, MaxPooling2D\n",
    "from keras.callbacks import ModelCheckpoint, EarlyStopping\n",
    "from keras.regularizers import l2\n",
    "\n",
    "model = Sequential()\n",
    "\n",
    "model.add(Conv2D(64, (3, 3), input_shape = train_data.shape[1:], activation='relu'))\n",
    "model.add(MaxPooling2D(pool_size = (2, 2)))\n",
    "\n",
    "model.add(Conv2D(128, (3, 3), activation = 'relu'))\n",
    "model.add(MaxPooling2D(pool_size = (2, 2)))\n",
    "\n",
    "model.add(Conv2D(256, (3, 3), activation = 'relu'))\n",
    "model.add(MaxPooling2D(pool_size = (2, 2)))\n",
    "\n",
    "model.add(Flatten())\n",
    "model.add(Dropout(0.5))\n",
    "model.add(Dense(128, activation = 'relu', kernel_regularizer = l2(0.01)))\n",
    "model.add(Dense(4, activation = 'softmax'))\n",
    "\n",
    "model.compile(loss = 'categorical_crossentropy', optimizer = 'adam', metrics = ['accuracy'])\n",
    "\n",
    "# Define callbacks\n",
    "checkpoint = ModelCheckpoint('model-{epoch:03d}.model', monitor = 'val_loss', verbose = 0, save_best_only = True, mode = 'auto')\n",
    "early_stopping = EarlyStopping(monitor = 'val_loss', patience = 10, restore_best_weights = True)\n",
    "\n",
    "# Train the model with callbacks\n",
    "history = model.fit(train_data, train_target, epochs = 20, validation_data = (validation_data, validation_target), callbacks = [checkpoint, early_stopping])"
   ]
  },
  {
   "cell_type": "code",
   "execution_count": 4,
   "id": "6a3cfa41-0ebe-4632-ba57-69d6b0504529",
   "metadata": {},
   "outputs": [
    {
     "name": "stdout",
     "output_type": "stream",
     "text": [
      "25/25 [==============================] - 2s 83ms/step - loss: 0.3444 - accuracy: 0.9413\n",
      "[0.34438636898994446, 0.9412500262260437]\n"
     ]
    }
   ],
   "source": [
    "print(model.evaluate(test_data,test_target))"
   ]
  },
  {
   "cell_type": "code",
   "execution_count": null,
   "id": "ee9c0b4a-514f-4388-8c09-1827837e5d64",
   "metadata": {},
   "outputs": [],
   "source": []
  }
 ],
 "metadata": {
  "kernelspec": {
   "display_name": "Python 3 (ipykernel)",
   "language": "python",
   "name": "python3"
  },
  "language_info": {
   "codemirror_mode": {
    "name": "ipython",
    "version": 3
   },
   "file_extension": ".py",
   "mimetype": "text/x-python",
   "name": "python",
   "nbconvert_exporter": "python",
   "pygments_lexer": "ipython3",
   "version": "3.8.0"
  }
 },
 "nbformat": 4,
 "nbformat_minor": 5
}
